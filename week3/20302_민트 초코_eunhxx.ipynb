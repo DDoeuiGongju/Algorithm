{
 "cells": [
  {
   "cell_type": "code",
   "execution_count": 66,
   "metadata": {},
   "outputs": [
    {
     "name": "stdout",
     "output_type": "stream",
     "text": [
      "6\n",
      "1 * 2 / 3 / 4 / 5 * 6\n",
      "toothpaste\n"
     ]
    }
   ],
   "source": [
    "import math\n",
    "\n",
    "N = int(input())\n",
    "num=[] #숫자만 따로 저장할 배열\n",
    "oper=[] #연산자만 따로 저장할 배열\n",
    "ent=[] #전체 입력받을 배열\n",
    "ent=list(input().split())\n",
    "\n",
    "zero=False #0 존재여부 확인용\n",
    "ratNum=False #유리수 여부 확인용\n",
    "MAX=int(1e5) #최댓값 100 000\n",
    "primeNum=[0]*(MAX+1) #소수 개수 저장할 배열\n",
    "\n",
    "\n",
    "#전체 입력받은 배열에서 숫자와 연산자 분리해서 저장\n",
    "for i in range(len(ent)):\n",
    "    if i%2==0:\n",
    "        num.append(int(ent[i]))\n",
    "    else:\n",
    "        oper.append(ent[i])\n",
    "\n",
    "#소인수분해 함수\n",
    "#곱셈 연산자 다음에 온 수인 경우: 해당 소수의 갯수 하나씩 더함\n",
    "def Mul(n):\n",
    "    for idx in range(2, int(math.sqrt(n))+1):\n",
    "        while((n%idx)==0):\n",
    "            n //= idx\n",
    "            primeNum[idx]+=1\n",
    "    if (n>1): primeNum[n]+=1\n",
    "\n",
    "#나눗셈 연산자 다음에 온 수인 경우: 해당 소수의 갯수 하나씩 뺌\n",
    "def Div(n):\n",
    "    for idx in range(2, int(math.sqrt(n))+1):\n",
    "        while((n%idx)==0):\n",
    "            n //= idx\n",
    "            primeNum[idx]-=1\n",
    "    if (n>1): primeNum[n]-=1\n",
    "\n",
    "\n",
    "for i in range(len(num)):\n",
    "    if i==0:\n",
    "        if num[i]<0: num[i]*=-1 #음수는 정수/유리수 판별에 소용없으므로 양수로\n",
    "        #0이 있으면 무조건 계산결과는 0(=정수)이 됨\n",
    "        if num[i]==0:\n",
    "            zero=True\n",
    "            break\n",
    "        else:\n",
    "            Mul(num[i])\n",
    "    else:\n",
    "        if num[i]<0: num[i]*=-1\n",
    "        if num[i]==0:\n",
    "            zero=True\n",
    "            break\n",
    "            \n",
    "        #나눗셈 다음에 오는 수면 Div호출, 곱셈이면 Mul호출\n",
    "        if oper[i-1]=='/': Div(num[i])\n",
    "        elif oper[i-1]=='*': Mul(num[i])\n",
    "            \n",
    "if zero:\n",
    "    print(\"mint chocolate\")\n",
    "else:\n",
    "    #유리수 여부 판별\n",
    "    for i in range(2, MAX+1):\n",
    "        if primeNum[i]<0 : ratNum=True\n",
    "    \n",
    "    if ratNum:\n",
    "        print(\"toothpaste\")\n",
    "    else:\n",
    "        print(\"mint chocolate\")"
   ]
  },
  {
   "cell_type": "code",
   "execution_count": null,
   "metadata": {},
   "outputs": [],
   "source": []
  }
 ],
 "metadata": {
  "kernelspec": {
   "display_name": "Python 3",
   "language": "python",
   "name": "python3"
  },
  "language_info": {
   "codemirror_mode": {
    "name": "ipython",
    "version": 3
   },
   "file_extension": ".py",
   "mimetype": "text/x-python",
   "name": "python",
   "nbconvert_exporter": "python",
   "pygments_lexer": "ipython3",
   "version": "3.7.3"
  }
 },
 "nbformat": 4,
 "nbformat_minor": 2
}
