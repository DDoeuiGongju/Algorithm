{
 "cells": [
  {
   "cell_type": "code",
   "execution_count": 87,
   "metadata": {},
   "outputs": [
    {
     "name": "stdout",
     "output_type": "stream",
     "text": [
      "8 2\n",
      "12 7 19 20 17 14 9 10\n",
      "50\n"
     ]
    }
   ],
   "source": [
    "N, K = map(int, input().split())\n",
    "\n",
    "score=[]\n",
    "score=list(map(int, input().split()))\n",
    "\n",
    "low = 0 #최저점수\n",
    "high = 20*N #최대점수\n",
    "\n",
    "while(low <= high):\n",
    "    mid = (low+high)//2\n",
    "    psum = 0 #점수들의 부분합 저장할 변수\n",
    "    cnt = 0 #그룹의 수 카운트할 변수\n",
    "    \n",
    "    #점수 저장되어있는 배열에서 순차적으로 누적합 구함\n",
    "    for sc in score:\n",
    "        psum += sc\n",
    "        \n",
    "        if (psum >= mid):\n",
    "            cnt += 1\n",
    "            psum = 0\n",
    "    \n",
    "    if (cnt >= K):\n",
    "        low=mid+1\n",
    "    \n",
    "    else:\n",
    "        high=mid-1\n",
    "\n",
    "print(high)"
   ]
  },
  {
   "cell_type": "code",
   "execution_count": null,
   "metadata": {},
   "outputs": [],
   "source": []
  }
 ],
 "metadata": {
  "kernelspec": {
   "display_name": "Python 3",
   "language": "python",
   "name": "python3"
  },
  "language_info": {
   "codemirror_mode": {
    "name": "ipython",
    "version": 3
   },
   "file_extension": ".py",
   "mimetype": "text/x-python",
   "name": "python",
   "nbconvert_exporter": "python",
   "pygments_lexer": "ipython3",
   "version": "3.7.3"
  }
 },
 "nbformat": 4,
 "nbformat_minor": 2
}
