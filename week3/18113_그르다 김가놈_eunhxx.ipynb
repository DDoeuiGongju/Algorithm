{
 "cells": [
  {
   "cell_type": "code",
   "execution_count": 60,
   "metadata": {},
   "outputs": [
    {
     "name": "stdout",
     "output_type": "stream",
     "text": [
      "3 8 1\n",
      "16\n",
      "7\n",
      "8\n",
      "-1\n"
     ]
    }
   ],
   "source": [
    "N, K, M = map(int, input().split())\n",
    "L=[]\n",
    "for _ in range(N):\n",
    "    L.append(int(input()))\n",
    "result=-1\n",
    "\n",
    "#김밥 꼬다리 자르고 김밥조각 개수 count하는 함수\n",
    "def Chopping(mid):\n",
    "    cnt=0\n",
    "    for gb in L:\n",
    "        if gb <= K: continue\n",
    "        elif gb < 2*K:\n",
    "            cnt+=(gb-K)//mid\n",
    "        elif gb > 2*K:\n",
    "            cnt+=(gb-(2*K))//mid\n",
    "    \n",
    "    return cnt\n",
    "\n",
    "#이진탐색 함수\n",
    "def BinSearch(low, high):\n",
    "    while(low<=high):\n",
    "        mid=(low+high)//2\n",
    "        \n",
    "        if mid==0:\n",
    "            high=mid-1\n",
    "            break\n",
    "\n",
    "        if Chopping(mid) < M:\n",
    "            high=mid-1\n",
    "        else:\n",
    "            low=mid+1\n",
    "            \n",
    "    return high\n",
    "\n",
    "#제일 긴 김밥이 Kcm보다 길어야 손질할 수 있음\n",
    "if max(L)>K:\n",
    "    result=BinSearch(0, max(L)-K)\n",
    "    \n",
    "print(result)"
   ]
  },
  {
   "cell_type": "code",
   "execution_count": null,
   "metadata": {},
   "outputs": [],
   "source": []
  }
 ],
 "metadata": {
  "kernelspec": {
   "display_name": "Python 3",
   "language": "python",
   "name": "python3"
  },
  "language_info": {
   "codemirror_mode": {
    "name": "ipython",
    "version": 3
   },
   "file_extension": ".py",
   "mimetype": "text/x-python",
   "name": "python",
   "nbconvert_exporter": "python",
   "pygments_lexer": "ipython3",
   "version": "3.7.3"
  }
 },
 "nbformat": 4,
 "nbformat_minor": 2
}
