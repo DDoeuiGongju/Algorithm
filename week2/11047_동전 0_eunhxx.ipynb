{
 "cells": [
  {
   "cell_type": "code",
   "execution_count": 1,
   "metadata": {},
   "outputs": [
    {
     "name": "stdout",
     "output_type": "stream",
     "text": [
      "10 4790\n",
      "1\n",
      "5\n",
      "10\n",
      "50\n",
      "100\n",
      "500\n",
      "1000\n",
      "5000\n",
      "10000\n",
      "50000\n",
      "12\n"
     ]
    }
   ],
   "source": [
    "'''\n",
    "나눈 몫은 동전개수로 count, 나머지는 다시 저장해서 나눗셈 반복\n",
    "'''\n",
    "\n",
    "num, value=input().split()\n",
    "num=int(num) #동전 종류의 개수\n",
    "value=int(value) #만들고자 하는 총액\n",
    "\n",
    "coin=[] #동전 종류 입력받을 배열 선언\n",
    "\n",
    "for _ in range(num):\n",
    "    coin.append(int(input()))\n",
    "\n",
    "coin.sort(reverse=True) #오름차순으로 입력받았으므로 내림차순으로 재정렬\n",
    "\n",
    "total=0 #필요한 동전개수 count할 변수\n",
    "\n",
    "for money in coin:\n",
    "    if value>=money:\n",
    "        total += int(value/money) #나눈 몫을 int로해서 소수점이하는 버리고 total로 카운트\n",
    "        value = value%money #나눈 나머지를 다시 value로 저장함\n",
    "        if value == 0: break\n",
    "                \n",
    "print(int(total))"
   ]
  },
  {
   "cell_type": "code",
   "execution_count": null,
   "metadata": {},
   "outputs": [],
   "source": []
  }
 ],
 "metadata": {
  "kernelspec": {
   "display_name": "Python 3",
   "language": "python",
   "name": "python3"
  },
  "language_info": {
   "codemirror_mode": {
    "name": "ipython",
    "version": 3
   },
   "file_extension": ".py",
   "mimetype": "text/x-python",
   "name": "python",
   "nbconvert_exporter": "python",
   "pygments_lexer": "ipython3",
   "version": "3.7.3"
  }
 },
 "nbformat": 4,
 "nbformat_minor": 2
}
