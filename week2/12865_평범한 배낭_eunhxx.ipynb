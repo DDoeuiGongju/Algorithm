{
 "cells": [
  {
   "cell_type": "code",
   "execution_count": 68,
   "metadata": {},
   "outputs": [
    {
     "name": "stdout",
     "output_type": "stream",
     "text": [
      "4 7\n",
      "6 13\n",
      "4 8\n",
      "3 6\n",
      "5 12\n",
      "14\n"
     ]
    }
   ],
   "source": [
    "'''\n",
    "idea1) 물품 조합의 모든 경우의 수를 생각하고,\n",
    "물품 합이 K를 넘지 않을 때의 가치 합을 계산하여 가장 큰 값으로 계속 update\n",
    "--> 시간초과\n",
    "\n",
    "idea2) 물품 가치를 계산하는 행렬을 생성하고, 점화식 도출\n",
    "행렬의 가장 마지막 값이 max value값\n",
    "'''\n",
    "\n",
    "N, K = map(int, input().split())\n",
    "\n",
    "knap=[[0]*(K+1) for _ in range(N+1)] # 행렬 생성\n",
    "obj=[] #물건의 무게,가치 저장할 리스트\n",
    "for _ in range(N):\n",
    "    obj.append(list(map(int, input().split())))\n",
    "\n",
    "for i in range(1, N+1):\n",
    "    for j in range(1, K+1):\n",
    "        # 물건 무게가 j보다 작거나 같을 때는 max값 계산\n",
    "        if obj[i-1][0] <= j:\n",
    "            knap[i][j] = max(knap[i-1][j], obj[i-1][1]+knap[i-1][j-(obj[i-1][0])])\n",
    "        \n",
    "        # 물건 무게가 j보다 클 때는 바로 위의 값 그대로 가져옴\n",
    "        else:\n",
    "            knap[i][j] = knap[i-1][j]\n",
    "\n",
    "print(knap[-1][K])"
   ]
  },
  {
   "cell_type": "code",
   "execution_count": null,
   "metadata": {},
   "outputs": [],
   "source": []
  }
 ],
 "metadata": {
  "kernelspec": {
   "display_name": "Python 3",
   "language": "python",
   "name": "python3"
  },
  "language_info": {
   "codemirror_mode": {
    "name": "ipython",
    "version": 3
   },
   "file_extension": ".py",
   "mimetype": "text/x-python",
   "name": "python",
   "nbconvert_exporter": "python",
   "pygments_lexer": "ipython3",
   "version": "3.7.3"
  }
 },
 "nbformat": 4,
 "nbformat_minor": 2
}
