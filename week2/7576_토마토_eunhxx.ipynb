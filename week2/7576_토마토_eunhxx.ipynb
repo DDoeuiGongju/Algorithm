{
 "cells": [
  {
   "cell_type": "code",
   "execution_count": 81,
   "metadata": {},
   "outputs": [
    {
     "name": "stdout",
     "output_type": "stream",
     "text": [
      "6 4\n",
      "0 -1 0 0 0 0\n",
      "-1 0 0 0 0 0\n",
      "0 0 0 0 0 0\n",
      "0 0 0 0 0 1\n",
      "-1\n"
     ]
    }
   ],
   "source": [
    "'''\n",
    "리스트 전체를 순회하지 않고,\n",
    "queue에 익은 토마토(=1)의 좌표를 저장해서\n",
    "dequeue해가면서 그 좌표의 이웃만 검사함\n",
    "'''\n",
    "\n",
    "from collections import deque\n",
    "\n",
    "M, N=map(int, input().split())\n",
    "\n",
    "#토마토 상태 input으로 받음\n",
    "tomato=[]\n",
    "for _ in range(N):\n",
    "    tomato.append(list(map(int, input().split())))\n",
    "\n",
    "count=0 #총 며칠 걸리는지 계산하는 변수\n",
    "dx = [0, 0, -1, 1] #상하좌우\n",
    "dy = [1, -1, 0, 0]\n",
    "coord = deque() #큐 선언\n",
    "\n",
    "\n",
    "#값이 1인 좌표를 큐에 저장\n",
    "for i in range(N):\n",
    "    for j in range(M):\n",
    "        if tomato[i][j]==1:\n",
    "            coord.append([i,j])\n",
    "\n",
    "#큐가 비워질 때까지 토마토 익히기 반복\n",
    "while len(coord)!=0:\n",
    "    count += 1\n",
    "    for _ in range(len(coord)):\n",
    "        x, y = coord.popleft()\n",
    "\n",
    "        for i in range(4):\n",
    "            new_x = x + dx[i]\n",
    "            new_y = y + dy[i]\n",
    "\n",
    "            if (0<=new_x<N) and (0<=new_y<M) and tomato[new_x][new_y]==0:\n",
    "                tomato[new_x][new_y]=1\n",
    "                coord.append([new_x, new_y])\n",
    "\n",
    "count -= 1\n",
    "\n",
    "# 안익은 토마토가 있는지 확인\n",
    "for i in tomato:\n",
    "    if 0 in i:\n",
    "        count = -1\n",
    "        break\n",
    "    \n",
    "print(count)"
   ]
  },
  {
   "cell_type": "code",
   "execution_count": null,
   "metadata": {},
   "outputs": [],
   "source": []
  }
 ],
 "metadata": {
  "kernelspec": {
   "display_name": "Python 3",
   "language": "python",
   "name": "python3"
  },
  "language_info": {
   "codemirror_mode": {
    "name": "ipython",
    "version": 3
   },
   "file_extension": ".py",
   "mimetype": "text/x-python",
   "name": "python",
   "nbconvert_exporter": "python",
   "pygments_lexer": "ipython3",
   "version": "3.7.3"
  }
 },
 "nbformat": 4,
 "nbformat_minor": 2
}
